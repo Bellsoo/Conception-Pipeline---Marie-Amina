{
 "cells": [
  {
   "cell_type": "code",
   "execution_count": 3,
   "id": "dae97925",
   "metadata": {},
   "outputs": [],
   "source": [
    "import pandas as pd"
   ]
  },
  {
   "cell_type": "code",
   "execution_count": 4,
   "id": "dcc83333",
   "metadata": {},
   "outputs": [],
   "source": [
    "# Chargement du fichier CSV\n",
    "df = pd.read_csv(\"jeu_donnees_etl_5000_lignes.csv\")\n"
   ]
  },
  {
   "cell_type": "code",
   "execution_count": 5,
   "id": "fa17148a",
   "metadata": {},
   "outputs": [
    {
     "name": "stdout",
     "output_type": "stream",
     "text": [
      "   ID_produit Nom_produit  Quantite_vendue  Prix_unitaire  Date_vente\n",
      "0           1     Chemise             10.0           25.0  2022-01-05\n",
      "1           2    Pantalon              8.0           35.0  2022-01-06\n",
      "2           3  Chaussures              NaN           50.0  2022-01-07\n",
      "3           4     Cravate             12.0           15.0  2022-01-08\n",
      "4           5        Robe             15.0           45.0  2022-01-09\n"
     ]
    }
   ],
   "source": [
    "# Affichage des 5 premières lignes\n",
    "print(df.head())\n"
   ]
  },
  {
   "cell_type": "code",
   "execution_count": 6,
   "id": "9d508183",
   "metadata": {},
   "outputs": [],
   "source": [
    "# Suppression des doublons\n",
    "df = df.drop_duplicates()\n"
   ]
  },
  {
   "cell_type": "code",
   "execution_count": 7,
   "id": "f2711b63",
   "metadata": {},
   "outputs": [
    {
     "name": "stdout",
     "output_type": "stream",
     "text": [
      "ID_produit            0\n",
      "Nom_produit          10\n",
      "Quantite_vendue    2476\n",
      "Prix_unitaire      2364\n",
      "Date_vente            0\n",
      "dtype: int64\n"
     ]
    }
   ],
   "source": [
    "# Compter les valeurs manquantes\n",
    "print(df.isnull().sum())\n"
   ]
  },
  {
   "cell_type": "code",
   "execution_count": 9,
   "id": "797a0c37",
   "metadata": {},
   "outputs": [
    {
     "name": "stdout",
     "output_type": "stream",
     "text": [
      "Dates invalides :\n",
      "      ID_produit Nom_produit  Quantite_vendue  Prix_unitaire    Date_vente\n",
      "65            66        Pull             20.0            NaN         2022-\n",
      "66            82    Pantalon              NaN          32.04  invalid_date\n",
      "69            98  Chaussures              NaN          35.01    07/09/2023\n",
      "71            94      Montre              NaN            NaN  invalid_date\n",
      "72            80        Pull             12.0          14.12    18/07/2024\n",
      "...          ...         ...              ...            ...           ...\n",
      "5060          61     Cravate              7.9          59.59    20/06/2023\n",
      "5061          94      Montre              NaN            NaN    31/05/2024\n",
      "5063          69     Cravate              NaN          77.66    14/08/2024\n",
      "5064          19     Chemise             17.0            NaN    08/11/2024\n",
      "5065          55    Pantalon              NaN          20.07  invalid_date\n",
      "\n",
      "[3238 rows x 5 columns]\n"
     ]
    }
   ],
   "source": [
    "# Vérifier que toutes les dates sont valides\n",
    "import datetime\n",
    "\n",
    "def valider_date(chaine_date):\n",
    "    try:\n",
    "        datetime.datetime.strptime(chaine_date, \"%Y-%m-%d\")\n",
    "        return True\n",
    "    except ValueError:\n",
    "        return False\n",
    "\n",
    "# Liste des dates invalides\n",
    "dates_invalides = df[~df[\"Date_vente\"].apply(valider_date)]\n",
    "print(\"Dates invalides :\")\n",
    "print(dates_invalides)\n"
   ]
  },
  {
   "cell_type": "code",
   "execution_count": 10,
   "id": "28f692b2",
   "metadata": {},
   "outputs": [
    {
     "name": "stdout",
     "output_type": "stream",
     "text": [
      "Quantités négatives : 0\n",
      "Prix négatifs : 0\n"
     ]
    }
   ],
   "source": [
    "# Détection des valeurs négatives\n",
    "quantites_neg = df[df[\"Quantite_vendue\"] < 0]\n",
    "prix_neg = df[df[\"Prix_unitaire\"] < 0]\n",
    "\n",
    "print(\"Quantités négatives :\", len(quantites_neg))\n",
    "print(\"Prix négatifs :\", len(prix_neg))\n"
   ]
  },
  {
   "cell_type": "code",
   "execution_count": null,
   "id": "6c0952c2",
   "metadata": {},
   "outputs": [],
   "source": [
    "# On supprime les lignes avec des quantités ou prix négatifs\n",
    "# df = df[df[\"Quantite_vendue\"] >= 0]\n",
    "# df = df[df[\"Prix_unitaire\"] >= 0]\n",
    "\n",
    "#Il n'y a pas de quantités ou de prix négatifs"
   ]
  },
  {
   "cell_type": "code",
   "execution_count": 12,
   "id": "6db20a69",
   "metadata": {},
   "outputs": [],
   "source": [
    "# Création d'une colonne \"Total_vente\"\n",
    "df[\"Total_vente\"] = df[\"Quantite_vendue\"] * df[\"Prix_unitaire\"]\n"
   ]
  },
  {
   "cell_type": "code",
   "execution_count": 13,
   "metadata": {},
   "outputs": [],
   "source": [
    "# Création d'une colonne \"TVA\" (20 % de la vente)\n",
    "df[\"TVA\"] = df[\"Total_vente\"] * 0.20\n"
   ]
  },
  {
   "cell_type": "code",
   "execution_count": null,
   "metadata": {},
   "outputs": [
    {
     "name": "stdout",
     "output_type": "stream",
     "text": [
      "   ID_produit Nom_produit  Quantite_vendue  Prix_unitaire  Date_vente  \\\n",
      "0           1     Chemise             10.0           25.0  2022-01-05   \n",
      "1           2    Pantalon              8.0           35.0  2022-01-06   \n",
      "3           4     Cravate             12.0           15.0  2022-01-08   \n",
      "4           5        Robe             15.0           45.0  2022-01-09   \n",
      "6           7    Pantalon              8.0           35.0  2022-01-06   \n",
      "\n",
      "   Total_vente    TVA      Date_traitement  \n",
      "0        250.0   50.0  2025-05-22 12:16:22  \n",
      "1        280.0   56.0  2025-05-22 12:16:22  \n",
      "3        180.0   36.0  2025-05-22 12:16:22  \n",
      "4        675.0  135.0  2025-05-22 12:16:22  \n",
      "6        280.0   56.0  2025-05-22 12:16:22  \n"
     ]
    }
   ],
   "source": [
    "from datetime import datetime\n",
    "\n",
    "# Ajout de la colonne \"Date_traitement\" avec la date actuelle\n",
    "df[\"Date_traitement\"] = datetime.now().strftime(\"%Y-%m-%d %H:%M:%S\")\n",
    "print(df.head())"
   ]
  },
  {
   "cell_type": "code",
   "execution_count": 16,
   "metadata": {},
   "outputs": [],
   "source": [
    "# Normalisation Min-Max de Total_vente\n",
    "total_min = df[\"Total_vente\"].min()\n",
    "total_max = df[\"Total_vente\"].max()\n",
    "\n",
    "df[\"Total_vente_normalise\"] = (df[\"Total_vente\"] - total_min) / (total_max - total_min)\n"
   ]
  },
  {
   "cell_type": "code",
   "execution_count": 17,
   "id": "483a3537",
   "metadata": {},
   "outputs": [],
   "source": [
    "def classer_produit(prix):\n",
    "    if prix > 40:\n",
    "        return \"Luxe\"\n",
    "    else:\n",
    "        return \"Basique\"\n",
    "\n",
    "df[\"Categorie_produit\"] = df[\"Prix_unitaire\"].apply(classer_produit)\n"
   ]
  },
  {
   "cell_type": "code",
   "execution_count": 18,
   "id": "09d9a878",
   "metadata": {},
   "outputs": [],
   "source": [
    "import numpy as np\n",
    "\n",
    "# Liste pour journaliser les erreurs\n",
    "log_erreurs = []\n",
    "\n",
    "# Fonction avec gestion d'erreurs\n",
    "def calculer_ratio(row):\n",
    "    try:\n",
    "        return row[\"Total_vente\"] / row[\"Quantite_vendue\"]\n",
    "    except ZeroDivisionError:\n",
    "        log_erreurs.append(f\"Division par 0 pour ID {row['ID_produit']}\")\n",
    "        return np.nan\n",
    "    except Exception as e:\n",
    "        log_erreurs.append(f\"Erreur {type(e).__name__} pour ID {row['ID_produit']} : {e}\")\n",
    "        return np.nan\n",
    "\n",
    "# Application\n",
    "df[\"Ratio_vente_quantite\"] = df.apply(calculer_ratio, axis=1)\n"
   ]
  },
  {
   "cell_type": "code",
   "execution_count": 19,
   "id": "b83312df",
   "metadata": {},
   "outputs": [
    {
     "data": {
      "text/html": [
       "<div>\n",
       "<style scoped>\n",
       "    .dataframe tbody tr th:only-of-type {\n",
       "        vertical-align: middle;\n",
       "    }\n",
       "\n",
       "    .dataframe tbody tr th {\n",
       "        vertical-align: top;\n",
       "    }\n",
       "\n",
       "    .dataframe thead th {\n",
       "        text-align: right;\n",
       "    }\n",
       "</style>\n",
       "<table border=\"1\" class=\"dataframe\">\n",
       "  <thead>\n",
       "    <tr style=\"text-align: right;\">\n",
       "      <th></th>\n",
       "      <th>ID_produit</th>\n",
       "      <th>Quantite_vendue</th>\n",
       "      <th>Total_vente</th>\n",
       "      <th>Ratio_vente_quantite</th>\n",
       "    </tr>\n",
       "  </thead>\n",
       "  <tbody>\n",
       "    <tr>\n",
       "      <th>0</th>\n",
       "      <td>1</td>\n",
       "      <td>10.0</td>\n",
       "      <td>250.0</td>\n",
       "      <td>25.0</td>\n",
       "    </tr>\n",
       "    <tr>\n",
       "      <th>1</th>\n",
       "      <td>2</td>\n",
       "      <td>8.0</td>\n",
       "      <td>280.0</td>\n",
       "      <td>35.0</td>\n",
       "    </tr>\n",
       "    <tr>\n",
       "      <th>3</th>\n",
       "      <td>4</td>\n",
       "      <td>12.0</td>\n",
       "      <td>180.0</td>\n",
       "      <td>15.0</td>\n",
       "    </tr>\n",
       "    <tr>\n",
       "      <th>4</th>\n",
       "      <td>5</td>\n",
       "      <td>15.0</td>\n",
       "      <td>675.0</td>\n",
       "      <td>45.0</td>\n",
       "    </tr>\n",
       "    <tr>\n",
       "      <th>6</th>\n",
       "      <td>7</td>\n",
       "      <td>8.0</td>\n",
       "      <td>280.0</td>\n",
       "      <td>35.0</td>\n",
       "    </tr>\n",
       "  </tbody>\n",
       "</table>\n",
       "</div>"
      ],
      "text/plain": [
       "   ID_produit  Quantite_vendue  Total_vente  Ratio_vente_quantite\n",
       "0           1             10.0        250.0                  25.0\n",
       "1           2              8.0        280.0                  35.0\n",
       "3           4             12.0        180.0                  15.0\n",
       "4           5             15.0        675.0                  45.0\n",
       "6           7              8.0        280.0                  35.0"
      ]
     },
     "execution_count": 19,
     "metadata": {},
     "output_type": "execute_result"
    }
   ],
   "source": [
    "df[[\"ID_produit\", \"Quantite_vendue\", \"Total_vente\", \"Ratio_vente_quantite\"]].head()\n"
   ]
  },
  {
   "cell_type": "code",
   "execution_count": 20,
   "id": "40644e39",
   "metadata": {},
   "outputs": [],
   "source": [
    "# Sauvegarde de la dernière version transformée (remplacée à chaque exécution)\n",
    "df.to_csv(\"donnees_traitees.csv\", index=False)\n"
   ]
  },
  {
   "cell_type": "code",
   "execution_count": 22,
   "id": "f0a8ac08",
   "metadata": {},
   "outputs": [
    {
     "name": "stdout",
     "output_type": "stream",
     "text": [
      "Sauvegarde horodatée créée dans : historique\\donnees_traitees_2025-05-22_15-34-17.csv\n"
     ]
    }
   ],
   "source": [
    "import os\n",
    "from datetime import datetime\n",
    "\n",
    "# Crée le dossier 'historique' s'il n'existe pas\n",
    "os.makedirs(\"historique\", exist_ok=True)\n",
    "\n",
    "# Générer un nom de fichier horodaté\n",
    "timestamp = datetime.now().strftime(\"%Y-%m-%d_%H-%M-%S\")\n",
    "nom_fichier = f\"donnees_traitees_{timestamp}.csv\"\n",
    "\n",
    "# Chemin complet dans le dossier 'historique'\n",
    "chemin_complet = os.path.join(\"historique\", nom_fichier)\n",
    "\n",
    "# Sauvegarder dans le dossier historique\n",
    "df.to_csv(chemin_complet, index=False)\n",
    "\n",
    "print(f\"Sauvegarde horodatée créée dans : {chemin_complet}\")\n"
   ]
  },
  {
   "cell_type": "code",
   "execution_count": null,
   "id": "e8329c7a",
   "metadata": {},
   "outputs": [],
   "source": []
  },
  {
   "cell_type": "code",
   "execution_count": null,
   "id": "5e49c35d",
   "metadata": {},
   "outputs": [],
   "source": []
  }
 ],
 "metadata": {
  "kernelspec": {
   "display_name": ".venv",
   "language": "python",
   "name": "python3"
  },
  "language_info": {
   "codemirror_mode": {
    "name": "ipython",
    "version": 3
   },
   "file_extension": ".py",
   "mimetype": "text/x-python",
   "name": "python",
   "nbconvert_exporter": "python",
   "pygments_lexer": "ipython3",
   "version": "3.13.0"
  }
 },
 "nbformat": 4,
 "nbformat_minor": 5
}
