{
 "cells": [
  {
   "cell_type": "code",
   "execution_count": 3,
   "id": "dae97925",
   "metadata": {},
   "outputs": [],
   "source": [
    "import pandas as pd"
   ]
  },
  {
   "cell_type": "code",
   "execution_count": 4,
   "id": "dcc83333",
   "metadata": {},
   "outputs": [],
   "source": [
    "# Chargement du fichier CSV\n",
    "df = pd.read_csv(\"jeu_donnees_etl_5000_lignes.csv\")\n"
   ]
  },
  {
   "cell_type": "code",
   "execution_count": 5,
   "id": "fa17148a",
   "metadata": {},
   "outputs": [
    {
     "name": "stdout",
     "output_type": "stream",
     "text": [
      "   ID_produit Nom_produit  Quantite_vendue  Prix_unitaire  Date_vente\n",
      "0           1     Chemise             10.0           25.0  2022-01-05\n",
      "1           2    Pantalon              8.0           35.0  2022-01-06\n",
      "2           3  Chaussures              NaN           50.0  2022-01-07\n",
      "3           4     Cravate             12.0           15.0  2022-01-08\n",
      "4           5        Robe             15.0           45.0  2022-01-09\n"
     ]
    }
   ],
   "source": [
    "# Affichage des 5 premières lignes\n",
    "print(df.head())\n"
   ]
  },
  {
   "cell_type": "code",
   "execution_count": 6,
   "id": "9d508183",
   "metadata": {},
   "outputs": [],
   "source": [
    "# Suppression des doublons\n",
    "df = df.drop_duplicates()\n"
   ]
  },
  {
   "cell_type": "code",
   "execution_count": 7,
   "id": "f2711b63",
   "metadata": {},
   "outputs": [
    {
     "name": "stdout",
     "output_type": "stream",
     "text": [
      "ID_produit            0\n",
      "Nom_produit          10\n",
      "Quantite_vendue    2476\n",
      "Prix_unitaire      2364\n",
      "Date_vente            0\n",
      "dtype: int64\n"
     ]
    }
   ],
   "source": [
    "# Compter les valeurs manquantes\n",
    "print(df.isnull().sum())\n"
   ]
  },
  {
   "cell_type": "code",
   "execution_count": 9,
   "id": "797a0c37",
   "metadata": {},
   "outputs": [
    {
     "name": "stdout",
     "output_type": "stream",
     "text": [
      "Dates invalides :\n",
      "      ID_produit Nom_produit  Quantite_vendue  Prix_unitaire    Date_vente\n",
      "65            66        Pull             20.0            NaN         2022-\n",
      "66            82    Pantalon              NaN          32.04  invalid_date\n",
      "69            98  Chaussures              NaN          35.01    07/09/2023\n",
      "71            94      Montre              NaN            NaN  invalid_date\n",
      "72            80        Pull             12.0          14.12    18/07/2024\n",
      "...          ...         ...              ...            ...           ...\n",
      "5060          61     Cravate              7.9          59.59    20/06/2023\n",
      "5061          94      Montre              NaN            NaN    31/05/2024\n",
      "5063          69     Cravate              NaN          77.66    14/08/2024\n",
      "5064          19     Chemise             17.0            NaN    08/11/2024\n",
      "5065          55    Pantalon              NaN          20.07  invalid_date\n",
      "\n",
      "[3238 rows x 5 columns]\n"
     ]
    }
   ],
   "source": [
    "# Vérifier que toutes les dates sont valides\n",
    "import datetime\n",
    "\n",
    "def valider_date(chaine_date):\n",
    "    try:\n",
    "        datetime.datetime.strptime(chaine_date, \"%Y-%m-%d\")\n",
    "        return True\n",
    "    except ValueError:\n",
    "        return False\n",
    "\n",
    "# Liste des dates invalides\n",
    "dates_invalides = df[~df[\"Date_vente\"].apply(valider_date)]\n",
    "print(\"Dates invalides :\")\n",
    "print(dates_invalides)\n"
   ]
  },
  {
   "cell_type": "code",
   "execution_count": 10,
   "id": "28f692b2",
   "metadata": {},
   "outputs": [
    {
     "name": "stdout",
     "output_type": "stream",
     "text": [
      "Quantités négatives : 0\n",
      "Prix négatifs : 0\n"
     ]
    }
   ],
   "source": [
    "# Détection des valeurs négatives\n",
    "quantites_neg = df[df[\"Quantite_vendue\"] < 0]\n",
    "prix_neg = df[df[\"Prix_unitaire\"] < 0]\n",
    "\n",
    "print(\"Quantités négatives :\", len(quantites_neg))\n",
    "print(\"Prix négatifs :\", len(prix_neg))\n"
   ]
  },
  {
   "cell_type": "code",
   "execution_count": 11,
   "id": "6c0952c2",
   "metadata": {},
   "outputs": [],
   "source": [
    "# On supprime les lignes avec des quantités ou prix négatifs\n",
    "df = df[df[\"Quantite_vendue\"] >= 0]\n",
    "df = df[df[\"Prix_unitaire\"] >= 0]\n"
   ]
  }
 ],
 "metadata": {
  "kernelspec": {
   "display_name": ".venv",
   "language": "python",
   "name": "python3"
  },
  "language_info": {
   "codemirror_mode": {
    "name": "ipython",
    "version": 3
   },
   "file_extension": ".py",
   "mimetype": "text/x-python",
   "name": "python",
   "nbconvert_exporter": "python",
   "pygments_lexer": "ipython3",
   "version": "3.13.0"
  }
 },
 "nbformat": 4,
 "nbformat_minor": 5
}
